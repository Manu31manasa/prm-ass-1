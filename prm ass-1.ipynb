{
 "cells": [
  {
   "cell_type": "code",
   "execution_count": 1,
   "id": "d4dc2c38",
   "metadata": {},
   "outputs": [
    {
     "name": "stdout",
     "output_type": "stream",
     "text": [
      "Enter number of elements in the list : 4\n",
      "great\n",
      "hello\n",
      "hiyo\n",
      "abc\n",
      "The list after sorting in ascending order is :  ['great', 'abc', 'hello', 'hiyo']\n",
      "The list after sorting in descending order is :  ['hiyo', 'hello', 'abc', 'great']\n"
     ]
    }
   ],
   "source": [
    "# Problem Statement - 1 :-\n",
    "    \n",
    "\n",
    "# Python Candidates - Question 1\n",
    "\n",
    "# You will have a number of elements and in the next n lines element of a list.\n",
    "# You have to create a list from the given strings. You have to sort the list based on 2nd last character of a string.\n",
    "\n",
    "# For example: given list = ['great','hello','hiyo','abc'] so your output_dictionary should be ['great', 'abc', 'hello','hiyo']\n",
    "\n",
    "# Input Format:\n",
    "\n",
    "# At first-line it will have an integer (number of elements inside a list). In the second line, it will have a string.\n",
    "\n",
    "# Output Format:\n",
    "\n",
    "# A single line containing a sorted list.\n",
    "\n",
    "\n",
    "# Solution :-\n",
    "\n",
    "n = int(input(\"Enter number of elements in the list : \"))\n",
    "strings = []\n",
    "for i in range(n):\n",
    "    strings.append(input())\n",
    "\n",
    "strings.sort(key=lambda x: x[-2])\n",
    "print(\"The list after sorting in ascending order is : \" , strings)\n",
    "strings.sort(key=lambda x: x[-2] , reverse = True)\n",
    "print(\"The list after sorting in descending order is : \" , strings)"
   ]
  },
  {
   "cell_type": "code",
   "execution_count": null,
   "id": "89a4c925",
   "metadata": {},
   "outputs": [],
   "source": []
  }
 ],
 "metadata": {
  "kernelspec": {
   "display_name": "Python 3 (ipykernel)",
   "language": "python",
   "name": "python3"
  },
  "language_info": {
   "codemirror_mode": {
    "name": "ipython",
    "version": 3
   },
   "file_extension": ".py",
   "mimetype": "text/x-python",
   "name": "python",
   "nbconvert_exporter": "python",
   "pygments_lexer": "ipython3",
   "version": "3.9.13"
  }
 },
 "nbformat": 4,
 "nbformat_minor": 5
}
